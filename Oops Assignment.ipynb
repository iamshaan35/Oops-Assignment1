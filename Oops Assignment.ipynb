{
 "cells": [
  {
   "cell_type": "markdown",
   "id": "8c997bc7-89e2-4cfe-b21e-2878c56ceee0",
   "metadata": {},
   "source": [
    "Problem 1: Bank Account Create a class representing a bank account with attributes like account number, account holder name, and balance. Implement methods to deposit and withdraw money from the account."
   ]
  },
  {
   "cell_type": "code",
   "execution_count": 20,
   "id": "1c2f703d-0b15-4ebc-8831-096037b700e1",
   "metadata": {},
   "outputs": [],
   "source": [
    "class bankaccount1():\n",
    "    \n",
    "    Money_in_Account=20000\n",
    "    \n",
    "    \n",
    "    def account_holder(self, name, email_id):\n",
    "        print ('Your Name and Email id :')\n",
    "        return  name + ' ' + email_id\n",
    "    \n",
    "    def account_number(self, AC_no):\n",
    "        print('Your account Number is:')\n",
    "        return AC_no\n",
    "    \n",
    "    def deposit(self, Deposit):\n",
    "        print('Enter the amount you want to deposit')\n",
    "        return (f'Your account has been credited with Rs.{Deposit}')\n",
    "    \n",
    "    def withdraw(self, Withdraw):\n",
    "        print('Enter the amount you want to withdraw')\n",
    "        return (f'Your account has been debited with Rs.{Withdraw}')\n",
    "    \n",
    "    def Bal_Check (self, Previous_Bal, Deposit, Withdraw):\n",
    "        print('Total Amount left in your account is: ')\n",
    "        \n",
    "        Balance_Check = Previous_Bal - (Deposit + Withdraw)\n",
    "        return Balance_Check"
   ]
  },
  {
   "cell_type": "code",
   "execution_count": 21,
   "id": "d58ac456-3079-45c7-ae09-e147d5dea0f1",
   "metadata": {},
   "outputs": [],
   "source": [
    "shantanu=bankaccount1()"
   ]
  },
  {
   "cell_type": "code",
   "execution_count": 22,
   "id": "2c780c38-2a04-4486-bba6-cebcdf07658c",
   "metadata": {},
   "outputs": [
    {
     "name": "stdout",
     "output_type": "stream",
     "text": [
      "Your Name and Email id :\n"
     ]
    },
    {
     "data": {
      "text/plain": [
       "'John Shelby jhohn@shelby.com'"
      ]
     },
     "execution_count": 22,
     "metadata": {},
     "output_type": "execute_result"
    }
   ],
   "source": [
    "shantanu.account_holder('John Shelby', 'jhohn@shelby.com')"
   ]
  },
  {
   "cell_type": "code",
   "execution_count": 4,
   "id": "a256f3ed-898e-43c1-9de3-da60c9a07e71",
   "metadata": {},
   "outputs": [
    {
     "name": "stdout",
     "output_type": "stream",
     "text": [
      "Your account Number is:\n"
     ]
    },
    {
     "data": {
      "text/plain": [
       "67098764457000888"
      ]
     },
     "execution_count": 4,
     "metadata": {},
     "output_type": "execute_result"
    }
   ],
   "source": [
    "shantanu.account_number(67098764457000888)"
   ]
  },
  {
   "cell_type": "code",
   "execution_count": 5,
   "id": "36204054-5caf-4088-af6b-535c41dede2a",
   "metadata": {},
   "outputs": [
    {
     "name": "stdout",
     "output_type": "stream",
     "text": [
      "Enter the amount you want to deposit\n"
     ]
    },
    {
     "data": {
      "text/plain": [
       "'Your account has been credited with Rs.200'"
      ]
     },
     "execution_count": 5,
     "metadata": {},
     "output_type": "execute_result"
    }
   ],
   "source": [
    "shantanu.deposit(200)"
   ]
  },
  {
   "cell_type": "code",
   "execution_count": 6,
   "id": "64d2a5e7-2a6e-4987-87c4-1e3b59d1fa81",
   "metadata": {},
   "outputs": [
    {
     "name": "stdout",
     "output_type": "stream",
     "text": [
      "Enter the amount you want to withdraw\n"
     ]
    },
    {
     "data": {
      "text/plain": [
       "'Your account has been debited with Rs.100'"
      ]
     },
     "execution_count": 6,
     "metadata": {},
     "output_type": "execute_result"
    }
   ],
   "source": [
    "shantanu.withdraw(100)"
   ]
  },
  {
   "cell_type": "code",
   "execution_count": 7,
   "id": "e803214d-ce61-4940-9c26-089d18519d35",
   "metadata": {},
   "outputs": [
    {
     "name": "stdout",
     "output_type": "stream",
     "text": [
      "Total Amount left in your account is: \n"
     ]
    },
    {
     "data": {
      "text/plain": [
       "6700"
      ]
     },
     "execution_count": 7,
     "metadata": {},
     "output_type": "execute_result"
    }
   ],
   "source": [
    "shantanu.Bal_Check(7000, 200, 100)"
   ]
  },
  {
   "cell_type": "markdown",
   "id": "5a04a01f-bc27-4eeb-ad2d-459b335d300c",
   "metadata": {},
   "source": [
    "Problem 2: Employee Management Create a class representing an employee with attributes like employee ID, name, and salary. Implement methods to calculate the yearly bonus and display employee details."
   ]
  },
  {
   "cell_type": "code",
   "execution_count": 8,
   "id": "30b84e20-4d4b-4f3b-82b9-3d139e2f4d10",
   "metadata": {},
   "outputs": [],
   "source": [
    "class Employee_Management:\n",
    "    \n",
    "    def emp_name(self, name, emp_id):\n",
    "        return ('Name of the employee and his id is:', name, emp_id)\n",
    "    \n",
    "    def emp_salary(self, salary):\n",
    "        return ('Salary of the employee is:', salary)\n",
    "    \n",
    "    def bonus_chk(self, salary, duration_months):\n",
    "        print('Enter salary without comma and duration in months')\n",
    "        if salary<=10000 and duration_months>=6:\n",
    "            return ('Your Yearly bonus will be Rs.2000')\n",
    "        elif salary<25000 and duration_months<=12:\n",
    "            return('Your yearly bonus will be Rs.7500')\n",
    "        elif salary<40000 and duration_months<=15:\n",
    "            return('Your yearly bonus will be Rs.12000')\n",
    "        else:\n",
    "            return('for bonus you should have at least 6 months exp ')"
   ]
  },
  {
   "cell_type": "code",
   "execution_count": 9,
   "id": "75c7a4a7-b1c7-4e45-8789-c1f03d70c772",
   "metadata": {},
   "outputs": [],
   "source": [
    "Employee1=Employee_Management()"
   ]
  },
  {
   "cell_type": "code",
   "execution_count": 10,
   "id": "8f88b676-0db4-4065-ad7d-1b1b34392a55",
   "metadata": {},
   "outputs": [
    {
     "data": {
      "text/plain": [
       "('Name of the employee and his id is:', 'Shantanu Chauhan', 'Z00460')"
      ]
     },
     "execution_count": 10,
     "metadata": {},
     "output_type": "execute_result"
    }
   ],
   "source": [
    "Employee1.emp_name('Shantanu Chauhan', 'Z00460')"
   ]
  },
  {
   "cell_type": "code",
   "execution_count": 11,
   "id": "daa4aa73-3217-406a-94a5-55330bdf1520",
   "metadata": {},
   "outputs": [
    {
     "data": {
      "text/plain": [
       "('Salary of the employee is:', 20000)"
      ]
     },
     "execution_count": 11,
     "metadata": {},
     "output_type": "execute_result"
    }
   ],
   "source": [
    "Employee1.emp_salary(20000)"
   ]
  },
  {
   "cell_type": "code",
   "execution_count": 12,
   "id": "297cc4b3-e831-4504-a4f6-892f520ec61a",
   "metadata": {},
   "outputs": [
    {
     "name": "stdout",
     "output_type": "stream",
     "text": [
      "Enter salary without comma and duration in months\n"
     ]
    },
    {
     "data": {
      "text/plain": [
       "'Your yearly bonus will be Rs.12000'"
      ]
     },
     "execution_count": 12,
     "metadata": {},
     "output_type": "execute_result"
    }
   ],
   "source": [
    "Employee1.bonus_chk(34000,1)"
   ]
  },
  {
   "cell_type": "markdown",
   "id": "23ead289-9052-4f44-a80e-3b3ce81e486d",
   "metadata": {},
   "source": [
    "Problem 3: Vehicle Rental Create a class representing a vehicle rental system. Implement methods to rent a vehicle, return a vehicle, and display available vehicles."
   ]
  },
  {
   "cell_type": "code",
   "execution_count": 40,
   "id": "eac35005-7839-4172-8e54-03bec78ac659",
   "metadata": {},
   "outputs": [],
   "source": [
    "class Vehicle_rental:\n",
    "\n",
    "    def rental_menu(self):\n",
    "        return ('Services Offered by this Vehicle rental are: 1.Rent Vehicle, 2.Return Vehicle, 3.Available Vehicle')\n",
    "  \n",
    "    def avail_vehile(self):\n",
    "        print('Vehicles available: 2 Wheeler(Honda, Activa, Jupyter, Pulsar, Bullet), 4 Wheeler(Swift, Scorpio, Ertiga, Tiago, Nexon)')\n",
    "\n",
    "    def rent_vehicle(self,username, age):\n",
    "        print(\"Enter your name and your age\")\n",
    "\n",
    "        # Define lists of 2-wheelers and 4-wheelers\n",
    "        two_wheeler_list = ['Honda', 'Jupyter', 'Activa', 'Pulsar']\n",
    "        four_wheeler_list = ['Swift', 'Scorpio', 'Ertiga', 'Tiago', 'Nexon']\n",
    "\n",
    "        choice = input('Enter the type of vehicle you want to rent (2 or 4): ')\n",
    "    \n",
    "        if choice == '2':\n",
    "            print(\"Available 2-wheelers:\")\n",
    "            for i, vehicle in enumerate(two_wheeler_list, 1):\n",
    "                print(f\"{i}: {vehicle}\")\n",
    "            \n",
    "            choice_wanted = int(input('Enter the number of the vehicle you want to rent: '))\n",
    "      \n",
    "            if 1 <= choice_wanted <= len(two_wheeler_list):\n",
    "                print(f'Your {two_wheeler_list[choice_wanted - 1]} is booked for you')\n",
    "            else:\n",
    "                print('You have entered a wrong choice')\n",
    "        \n",
    "        elif choice == '4':\n",
    "            print(\"Available 4-wheelers:\")\n",
    "            for i, vehicle in enumerate(four_wheeler_list, 1):\n",
    "                print(f\"{i}: {vehicle}\")\n",
    "            \n",
    "            choice_wanted = int(input('Enter the number of the vehicle you want to rent: '))\n",
    "        \n",
    "            if 1 <= choice_wanted <= len(four_wheeler_list):\n",
    "                print(f'Your {four_wheeler_list[choice_wanted - 1]} is booked for you')\n",
    "            else:\n",
    "                print('You have entered a wrong choice')\n",
    "\n",
    "        else:\n",
    "            print('Invalid vehicle type. Please choose 2 for 2-wheelers or 4 for 4-wheelers')"
   ]
  },
  {
   "cell_type": "code",
   "execution_count": 41,
   "id": "22583246-be20-430b-ab0b-4ff2385962ea",
   "metadata": {},
   "outputs": [],
   "source": [
    "user = Vehicle_rental()"
   ]
  },
  {
   "cell_type": "code",
   "execution_count": 42,
   "id": "d7e953b8-cea7-42f1-bc98-a8fa309faee3",
   "metadata": {},
   "outputs": [
    {
     "name": "stdout",
     "output_type": "stream",
     "text": [
      "Vehicles available: 2 Wheeler(Honda, Activa, Jupyter, Pulsar, Bullet), 4 Wheeler(Swift, Scorpio, Ertiga, Tiago, Nexon)\n"
     ]
    }
   ],
   "source": [
    "user.avail_vehile()"
   ]
  },
  {
   "cell_type": "code",
   "execution_count": 43,
   "id": "96104c59-57c4-409e-842c-8e48b9feb76f",
   "metadata": {},
   "outputs": [
    {
     "data": {
      "text/plain": [
       "'Services Offered by this Vehicle rental are: 1.Rent Vehicle, 2.Return Vehicle, 3.Available Vehicle'"
      ]
     },
     "execution_count": 43,
     "metadata": {},
     "output_type": "execute_result"
    }
   ],
   "source": [
    "user.rental_menu()"
   ]
  },
  {
   "cell_type": "code",
   "execution_count": 44,
   "id": "cabf0aa7-c46b-4f70-972d-274cf1575edd",
   "metadata": {},
   "outputs": [
    {
     "name": "stdout",
     "output_type": "stream",
     "text": [
      "Enter your name and your age\n"
     ]
    },
    {
     "name": "stdin",
     "output_type": "stream",
     "text": [
      "Enter the type of vehicle you want to rent (2 or 4):  2\n"
     ]
    },
    {
     "name": "stdout",
     "output_type": "stream",
     "text": [
      "Available 2-wheelers:\n",
      "1: Honda\n",
      "2: Jupyter\n",
      "3: Activa\n",
      "4: Pulsar\n"
     ]
    },
    {
     "name": "stdin",
     "output_type": "stream",
     "text": [
      "Enter the number of the vehicle you want to rent:  2\n"
     ]
    },
    {
     "name": "stdout",
     "output_type": "stream",
     "text": [
      "Your Jupyter is booked for you\n"
     ]
    }
   ],
   "source": [
    "user.rent_vehicle('Jeetu',23)"
   ]
  },
  {
   "cell_type": "markdown",
   "id": "60c170da-6737-455e-a2a7-f5789a164ef7",
   "metadata": {},
   "source": [
    "Problem 4: Library Catalog Create classes representing a library and a book. Implement methods to add books to the library, borrow books, and display available books."
   ]
  },
  {
   "cell_type": "code",
   "execution_count": 14,
   "id": "900bb60d-0405-4d63-8ca0-351a213f39e3",
   "metadata": {},
   "outputs": [],
   "source": [
    "class library_catalog:\n",
    "    \n",
    "    def lib_menu(self):\n",
    "        return ('Welcome to the library: 1. Display the Available books 2.Add books to Library 3.Borrow Books')\n",
    "    \n",
    "    def avail_boks(self):\n",
    "        return (\"Books Available :'Harry Potter', 'Game of Thrones', 'House of the Dragon','Jungle Book' \")\n",
    "    \n",
    "    def borrow_book(self):\n",
    "        avl_book_list = [\" 1:'Harry Potter', 2:'Game of Thrones', 3:'House of the Dragon', 4:'Jungle Book'\"]\n",
    "        print('Available books:')\n",
    "        for i in (avl_book_list):\n",
    "            print(i)\n",
    "            \n",
    "            book_wanted = int(input('Enter the number of book you want to borrow'))\n",
    "            if book_wanted == 1:\n",
    "                print( 'The Harry Potter book is alloted to you for 7 days')\n",
    "            elif book_wanted == 2:\n",
    "                print ('The Book of Game of Thrones is allocated to you for 7 days')\n",
    "            elif book_wanted == 3:\n",
    "                print ('The Book of House of the Dragon is allocated to you for 7 days')\n",
    "            elif book_wanted == 4:\n",
    "                print ('The Book of Jungle Book is allocated to you for 7 days')\n",
    "            else:\n",
    "                print('You have entered a wrong choice')\n",
    "                \n",
    "    def add_books(self):\n",
    "        books = []\n",
    "        list_lenght=1\n",
    "        for items in range(0,list_lenght):\n",
    "            books_to_add = input('Enter the name of the book you want to add:')\n",
    "            books.append(books_to_add)\n",
    "        return ('The Book has been added to the list ', books)"
   ]
  },
  {
   "cell_type": "code",
   "execution_count": 15,
   "id": "106b8ae9-ac16-4f09-8784-37190ad76d67",
   "metadata": {},
   "outputs": [],
   "source": [
    "Shantanu = library_catalog()"
   ]
  },
  {
   "cell_type": "code",
   "execution_count": 16,
   "id": "cc8e1aef-c49c-4413-8be3-f105b13dcdc0",
   "metadata": {},
   "outputs": [
    {
     "data": {
      "text/plain": [
       "'Welcome to the library: 1. Display the Available books 2.Add books to Library 3.Borrow Books'"
      ]
     },
     "execution_count": 16,
     "metadata": {},
     "output_type": "execute_result"
    }
   ],
   "source": [
    "Shantanu.lib_menu()"
   ]
  },
  {
   "cell_type": "code",
   "execution_count": 17,
   "id": "db986251-e6ca-4734-b5dd-1e8b279b4707",
   "metadata": {},
   "outputs": [
    {
     "data": {
      "text/plain": [
       "\"Books Available :'Harry Potter', 'Game of Thrones', 'House of the Dragon','Jungle Book' \""
      ]
     },
     "execution_count": 17,
     "metadata": {},
     "output_type": "execute_result"
    }
   ],
   "source": [
    "Shantanu.avail_boks()"
   ]
  },
  {
   "cell_type": "code",
   "execution_count": 18,
   "id": "51b3fdda-ae63-4bf4-8343-b42d6af6b890",
   "metadata": {},
   "outputs": [
    {
     "name": "stdout",
     "output_type": "stream",
     "text": [
      "Available books:\n",
      " 1:'Harry Potter', 2:'Game of Thrones', 3:'House of the Dragon', 4:'Jungle Book'\n"
     ]
    },
    {
     "name": "stdin",
     "output_type": "stream",
     "text": [
      "Enter the number of book you want to borrow 3\n"
     ]
    },
    {
     "name": "stdout",
     "output_type": "stream",
     "text": [
      "The Book of House of the Dragon is allocated to you for 7 days\n"
     ]
    }
   ],
   "source": [
    "Shantanu.borrow_book()"
   ]
  },
  {
   "cell_type": "code",
   "execution_count": 19,
   "id": "f50d7233-cb48-4b6b-91a3-713c357bcb4f",
   "metadata": {},
   "outputs": [
    {
     "name": "stdin",
     "output_type": "stream",
     "text": [
      "Enter the name of the book you want to add: 'Prithiviraj Chauhan', 'Mahabharat', 'Ramayan', 'Vikra Betaal'\n"
     ]
    },
    {
     "data": {
      "text/plain": [
       "('The Book has been added to the list ',\n",
       " [\"'Prithiviraj Chauhan', 'Mahabharat', 'Ramayan', 'Vikra Betaal'\"])"
      ]
     },
     "execution_count": 19,
     "metadata": {},
     "output_type": "execute_result"
    }
   ],
   "source": [
    "Shantanu.add_books()"
   ]
  },
  {
   "cell_type": "markdown",
   "id": "a93b541b-c4ce-4686-9a18-10dbebbbb8b0",
   "metadata": {},
   "source": [
    "Problem 6: Shape Calculation Create a class representing a shape with attributes like length, width, and height. Implement methods to calculate the area and perimeter of the shape."
   ]
  },
  {
   "cell_type": "code",
   "execution_count": 52,
   "id": "55b862f2-b2a0-4201-9dc7-0de0c7e93c0f",
   "metadata": {},
   "outputs": [],
   "source": [
    "class shapes_menu:\n",
    "    def shapes_avl(self):\n",
    "        return ('Shapes Available whose area and Perimeter can be calculated is 1.square, 2.rectagle, 3.circle, 4.triangle ')\n",
    "\n",
    "class square:\n",
    "    def __init__(self, side):\n",
    "        self.side = side\n",
    "    \n",
    "    def area_spquare (self):\n",
    "        print (\"The area of the square is\")\n",
    "        return self.side * self.side\n",
    "    \n",
    "    def perimeter_sq(self):\n",
    "        print(\"The Perimieter of square is\")\n",
    "        return 4 * self.side\n",
    "    \n",
    "class rectangle:\n",
    "    def __init__(self, lenght, breadth):\n",
    "        self.lenght = lenght\n",
    "        self.breadth = breadth\n",
    "    \n",
    "    def area_rec (self):\n",
    "        print (\"The area of the rectangle is\")\n",
    "        return self.lenght * self.breadth\n",
    "    \n",
    "    def perimeter_rec (self):\n",
    "        print(\"The Perimieter of rectangle is\")\n",
    "        return 2 * self.lenght + self.breadth\n",
    "\n",
    "class circle:\n",
    "    def __init__(self, radius):\n",
    "        self.radius = radius\n",
    "    \n",
    "    def area_circle (self):\n",
    "        print (\"The area of the circle is\")\n",
    "        return 3.14 * (self.radius * self.radius)\n",
    "    \n",
    "    def perimeter_circle (self):\n",
    "        print(\"The Perimieter of circle is\")\n",
    "        return 2 * 3.14 * self.radius\n",
    "    \n",
    "class triangle:\n",
    "    def __init__(self, base, height):\n",
    "        self.base = base\n",
    "        self.height = height\n",
    "    \n",
    "    def area_triangle (self):\n",
    "        print (\"The area of the triangle is\")\n",
    "        return 0.5* self.base * self.height\n",
    "    \n",
    "    def perimeter_triangle (self):\n",
    "        print(\"The Perimieter of triangle is\")\n",
    "        return self.base + self.height\n",
    "\n",
    "    "
   ]
  },
  {
   "cell_type": "code",
   "execution_count": 53,
   "id": "3b94c8f2-56f8-4be3-9d01-b6f1d770ed2e",
   "metadata": {},
   "outputs": [],
   "source": [
    "show = shapes_menu()"
   ]
  },
  {
   "cell_type": "code",
   "execution_count": 54,
   "id": "5a7e4955-e078-42fa-b432-a43637a41295",
   "metadata": {},
   "outputs": [
    {
     "data": {
      "text/plain": [
       "'Shapes Available whose area and Perimeter can be calculated is 1.square, 2.rectagle, 3.circle, 4.triangle '"
      ]
     },
     "execution_count": 54,
     "metadata": {},
     "output_type": "execute_result"
    }
   ],
   "source": [
    "show.shapes_avl()"
   ]
  },
  {
   "cell_type": "code",
   "execution_count": 55,
   "id": "1f8e31c6-5967-4950-b1cd-649b77f2c3ca",
   "metadata": {},
   "outputs": [],
   "source": [
    "shape_one = square(9)"
   ]
  },
  {
   "cell_type": "code",
   "execution_count": 57,
   "id": "ff31b585-c412-4ec6-bb14-15132329c376",
   "metadata": {},
   "outputs": [
    {
     "name": "stdout",
     "output_type": "stream",
     "text": [
      "The area of the square is\n"
     ]
    },
    {
     "data": {
      "text/plain": [
       "81"
      ]
     },
     "execution_count": 57,
     "metadata": {},
     "output_type": "execute_result"
    }
   ],
   "source": [
    "shape_one.area_spquare()"
   ]
  },
  {
   "cell_type": "code",
   "execution_count": 58,
   "id": "b1aedc24-fe87-4b7e-bb60-00c69df5a3bd",
   "metadata": {},
   "outputs": [
    {
     "name": "stdout",
     "output_type": "stream",
     "text": [
      "The Perimieter of square is\n"
     ]
    },
    {
     "data": {
      "text/plain": [
       "36"
      ]
     },
     "execution_count": 58,
     "metadata": {},
     "output_type": "execute_result"
    }
   ],
   "source": [
    "shape_one.perimeter_sq()"
   ]
  },
  {
   "cell_type": "code",
   "execution_count": 60,
   "id": "74e3ccd0-81b6-4cc4-be81-d91ba1ee8a5f",
   "metadata": {},
   "outputs": [],
   "source": [
    "shape_two = rectangle(5,4)"
   ]
  },
  {
   "cell_type": "code",
   "execution_count": 61,
   "id": "34bf1666-6e45-496a-b6a2-fad246911997",
   "metadata": {},
   "outputs": [
    {
     "name": "stdout",
     "output_type": "stream",
     "text": [
      "The area of the rectangle is\n"
     ]
    },
    {
     "data": {
      "text/plain": [
       "20"
      ]
     },
     "execution_count": 61,
     "metadata": {},
     "output_type": "execute_result"
    }
   ],
   "source": [
    "shape_two.area_rec()"
   ]
  },
  {
   "cell_type": "code",
   "execution_count": 62,
   "id": "74d11f81-2fb0-4c1d-8ca9-604929443070",
   "metadata": {},
   "outputs": [
    {
     "name": "stdout",
     "output_type": "stream",
     "text": [
      "The Perimieter of rectangle is\n"
     ]
    },
    {
     "data": {
      "text/plain": [
       "14"
      ]
     },
     "execution_count": 62,
     "metadata": {},
     "output_type": "execute_result"
    }
   ],
   "source": [
    "shape_two.perimeter_rec()"
   ]
  },
  {
   "cell_type": "code",
   "execution_count": 64,
   "id": "003b5565-a855-4e17-b1f2-f754ff60a8a1",
   "metadata": {},
   "outputs": [],
   "source": [
    "shape_three = circle(3)"
   ]
  },
  {
   "cell_type": "code",
   "execution_count": 65,
   "id": "df8580b1-001c-4a2a-9361-619b4f7f6adb",
   "metadata": {},
   "outputs": [
    {
     "name": "stdout",
     "output_type": "stream",
     "text": [
      "The area of the circle is\n"
     ]
    },
    {
     "data": {
      "text/plain": [
       "28.26"
      ]
     },
     "execution_count": 65,
     "metadata": {},
     "output_type": "execute_result"
    }
   ],
   "source": [
    "shape_three.area_circle()"
   ]
  },
  {
   "cell_type": "code",
   "execution_count": 66,
   "id": "8a513e3a-f6d3-498f-a140-e2e58c218b8c",
   "metadata": {},
   "outputs": [
    {
     "name": "stdout",
     "output_type": "stream",
     "text": [
      "The Perimieter of circle is\n"
     ]
    },
    {
     "data": {
      "text/plain": [
       "18.84"
      ]
     },
     "execution_count": 66,
     "metadata": {},
     "output_type": "execute_result"
    }
   ],
   "source": [
    "shape_three.perimeter_circle()"
   ]
  },
  {
   "cell_type": "code",
   "execution_count": 67,
   "id": "5415db96-d91a-4762-87d5-ea4c3055a7bf",
   "metadata": {},
   "outputs": [],
   "source": [
    "shape_four = triangle(4,5)"
   ]
  },
  {
   "cell_type": "code",
   "execution_count": 68,
   "id": "0fd95fe1-1b88-4826-98c9-f1eafcc3c717",
   "metadata": {},
   "outputs": [
    {
     "name": "stdout",
     "output_type": "stream",
     "text": [
      "The area of the triangle is\n"
     ]
    },
    {
     "data": {
      "text/plain": [
       "10.0"
      ]
     },
     "execution_count": 68,
     "metadata": {},
     "output_type": "execute_result"
    }
   ],
   "source": [
    "shape_four.area_triangle()"
   ]
  },
  {
   "cell_type": "code",
   "execution_count": 69,
   "id": "99bd1614-a196-4451-ac17-c134c32465ae",
   "metadata": {},
   "outputs": [
    {
     "name": "stdout",
     "output_type": "stream",
     "text": [
      "The Perimieter of triangle is\n"
     ]
    },
    {
     "data": {
      "text/plain": [
       "9"
      ]
     },
     "execution_count": 69,
     "metadata": {},
     "output_type": "execute_result"
    }
   ],
   "source": [
    "shape_four.perimeter_triangle()"
   ]
  },
  {
   "cell_type": "markdown",
   "id": "24cd90cf-7e52-41b0-918f-b7e6246e10ae",
   "metadata": {},
   "source": [
    "Problem 7: Student Management Create a class representing a student with attributes like student ID, name, and grades. Implement methods to calculate the average grade and display student details."
   ]
  },
  {
   "cell_type": "code",
   "execution_count": 1,
   "id": "75f13861-2512-4720-9555-f993c1f4a4a0",
   "metadata": {},
   "outputs": [
    {
     "name": "stdout",
     "output_type": "stream",
     "text": [
      "Enter the student ID, Name and Grades in 5 Subjects\n"
     ]
    }
   ],
   "source": [
    "class student:\n",
    "    print('Enter the student ID, Name and Grades in 5 Subjects')\n",
    "    def __init__(self, stu_id, name, grades_list):\n",
    "        self.stu_id = stu_id\n",
    "        self.name = name\n",
    "        self.grades_list = grades_list\n",
    "        \n",
    "    def student_details(self):\n",
    "        return self.stu_id , self.name\n",
    "    \n",
    "    def avg_grade(self):\n",
    "        sum_grd = 0\n",
    "        for i in self.grades_list:\n",
    "            sum_grd = sum_grd + i\n",
    "            average_grade = sum_grd/ 5\n",
    "        return average_grade"
   ]
  },
  {
   "cell_type": "code",
   "execution_count": 2,
   "id": "1f66fce4-65e7-4efa-95d2-bcb922ae6e45",
   "metadata": {},
   "outputs": [],
   "source": [
    "poshi = student(51,'Srishti',[56,76,87,67,88])"
   ]
  },
  {
   "cell_type": "code",
   "execution_count": 3,
   "id": "a044242f-c986-4822-8223-94da2faa9146",
   "metadata": {},
   "outputs": [
    {
     "data": {
      "text/plain": [
       "(51, 'Srishti')"
      ]
     },
     "execution_count": 3,
     "metadata": {},
     "output_type": "execute_result"
    }
   ],
   "source": [
    "poshi.student_details()"
   ]
  },
  {
   "cell_type": "code",
   "execution_count": 4,
   "id": "6c87353a-ca6e-42df-aeca-80b1c911c1b0",
   "metadata": {},
   "outputs": [
    {
     "data": {
      "text/plain": [
       "74.8"
      ]
     },
     "execution_count": 4,
     "metadata": {},
     "output_type": "execute_result"
    }
   ],
   "source": [
    "poshi.avg_grade()"
   ]
  },
  {
   "cell_type": "markdown",
   "id": "5de253f8-38f2-4134-bab5-3c4a333fff09",
   "metadata": {},
   "source": [
    "Problem 8: Email Management Create a class representing an email with attributes like sender, recipient, and subject. Implement methods to send an email and display email details."
   ]
  },
  {
   "cell_type": "code",
   "execution_count": 32,
   "id": "1c5c0a0b-a12f-445d-80ab-9a0c889dbf72",
   "metadata": {},
   "outputs": [
    {
     "name": "stdout",
     "output_type": "stream",
     "text": [
      "Enter the sender, recipient mail address and the subject of the email\n"
     ]
    }
   ],
   "source": [
    "class email:\n",
    "    \n",
    "    print(\"Enter the sender, recipient mail address and the subject of the email\")\n",
    "    \n",
    "    def __init__(self, sender_email, recipient_email, subject):\n",
    "        self.sender_email = sender_email\n",
    "        self.recipient_email = recipient_email\n",
    "        self.subject = subject\n",
    "        \n",
    "    def email_details(self):\n",
    "        return f\"This email is going to sent by {self.sender_email} to {self.recipient_email} and the subject of the email is '{self.subject}'\"\n",
    "    \n",
    "    def mail_sender(self):\n",
    "        body = input(\"Enter the body of email you want to send: \")\n",
    "        if body == \"\":\n",
    "            return \"Enter some text, body can't be empty\"\n",
    "           \n",
    "        else:\n",
    "            response = input(\"If you want to send this email enter Y/N:\")\n",
    "        if response == \"Y\":\n",
    "            print (\"The email is sent\")\n",
    "        elif response == \"N\":\n",
    "            print (\"The email is not sent and has been saved to drafts\")\n",
    "        return \"Thank you for using this email service\"\n",
    "        "
   ]
  },
  {
   "cell_type": "code",
   "execution_count": 33,
   "id": "6b36bbca-31bc-472c-ab7a-d66a442162d1",
   "metadata": {},
   "outputs": [],
   "source": [
    "ansh = email('iamshaan52@gmail.com', 'iamshaan35@gmail.com', 'Leave Application')"
   ]
  },
  {
   "cell_type": "code",
   "execution_count": 34,
   "id": "cfe094f9-fc55-45cd-b2f5-85a1a444ec88",
   "metadata": {},
   "outputs": [
    {
     "data": {
      "text/plain": [
       "\"This email is going to sent by iamshaan52@gmail.com to iamshaan35@gmail.com and the subject of the email is 'Leave Application'\""
      ]
     },
     "execution_count": 34,
     "metadata": {},
     "output_type": "execute_result"
    }
   ],
   "source": [
    "ansh.email_details()"
   ]
  },
  {
   "cell_type": "code",
   "execution_count": 35,
   "id": "9cc9a6c6-a845-4e0e-a72b-6e1e52f8c7fe",
   "metadata": {},
   "outputs": [
    {
     "name": "stdin",
     "output_type": "stream",
     "text": [
      "Enter the body of email you want to send:  Dear Boss, Please approve my leave for the next monday\n",
      "If you want to send this email enter Y/N: Y\n"
     ]
    },
    {
     "name": "stdout",
     "output_type": "stream",
     "text": [
      "The email is sent\n"
     ]
    },
    {
     "data": {
      "text/plain": [
       "'Thank you for using this email service'"
      ]
     },
     "execution_count": 35,
     "metadata": {},
     "output_type": "execute_result"
    }
   ],
   "source": [
    "ansh.mail_sender()"
   ]
  },
  {
   "cell_type": "code",
   "execution_count": 36,
   "id": "339dfca2-31a2-472e-bd7a-5f9364506d5b",
   "metadata": {},
   "outputs": [],
   "source": [
    "achauhan = email(\"iamansh@gmail.com\",\"iamshanj12@gml.com\", \"PFA\") "
   ]
  },
  {
   "cell_type": "code",
   "execution_count": 37,
   "id": "8ce105d8-2335-4c9d-b371-f1d2d8ced688",
   "metadata": {},
   "outputs": [
    {
     "data": {
      "text/plain": [
       "\"This email is going to sent by iamansh@gmail.com to iamshanj12@gml.com and the subject of the email is 'PFA'\""
      ]
     },
     "execution_count": 37,
     "metadata": {},
     "output_type": "execute_result"
    }
   ],
   "source": [
    "achauhan.email_details()"
   ]
  },
  {
   "cell_type": "code",
   "execution_count": 38,
   "id": "da51d670-39cc-4960-9d7c-122a72d6f5f5",
   "metadata": {},
   "outputs": [
    {
     "name": "stdin",
     "output_type": "stream",
     "text": [
      "Enter the body of email you want to send:  Please Find Attachment\n",
      "If you want to send this email enter Y/N: N\n"
     ]
    },
    {
     "name": "stdout",
     "output_type": "stream",
     "text": [
      "The email is not sent and has been saved to drafts\n"
     ]
    },
    {
     "data": {
      "text/plain": [
       "'Thank you for using this email service'"
      ]
     },
     "execution_count": 38,
     "metadata": {},
     "output_type": "execute_result"
    }
   ],
   "source": [
    "achauhan.mail_sender()"
   ]
  },
  {
   "cell_type": "markdown",
   "id": "bb19543c-c641-418e-94ff-45c3194e83f5",
   "metadata": {},
   "source": [
    "Problem 9: Social Media Profile Create a class representing a social media profile with attributes like username and posts. Implement methods to add posts, display posts, and search for posts by keyword."
   ]
  },
  {
   "cell_type": "code",
   "execution_count": 8,
   "id": "cb961e28-0f7b-4786-84a0-2b9e250e4fb4",
   "metadata": {},
   "outputs": [],
   "source": [
    "class MediaProfile:\n",
    "    \n",
    "    def __init__(self, loginid, password):\n",
    "        self.loginid = loginid\n",
    "        self.password = password\n",
    "        \n",
    "    def display_profile(self, username, age):\n",
    "        return f\"Username of the Shantanu is {username} and age is {age} and currently have 0 posts\"\n",
    "    \n",
    "    def add_posts(self):\n",
    "        post = input('Enter the post: ')\n",
    "        response = input('If you want to post this on your profile enter OK: ')\n",
    "        if response == 'OK':\n",
    "            print ('your post has been posted on your profile')\n",
    "        else:\n",
    "            print ('The post has been discarded')\n",
    "            \n",
    "    def display_posts(self,self.add_posts):\n",
    "        print (\"Posts available on your profile is \")\n",
    "            \n",
    "            \n",
    "            \n",
    "        \n",
    "        \n",
    "        \n",
    "\n"
   ]
  },
  {
   "cell_type": "code",
   "execution_count": 9,
   "id": "aa872742-f554-455f-bdbf-52bfa9836d50",
   "metadata": {},
   "outputs": [],
   "source": [
    "jeetu = MediaProfile('iamshaan52@gmail.com','jeetu123')"
   ]
  },
  {
   "cell_type": "code",
   "execution_count": 10,
   "id": "d5b179d9-33c4-46b4-a0d0-2f6326f96ff3",
   "metadata": {},
   "outputs": [
    {
     "data": {
      "text/plain": [
       "'Username of the Shantanu is iamshaan052 and age is 24 and currently have 0 posts'"
      ]
     },
     "execution_count": 10,
     "metadata": {},
     "output_type": "execute_result"
    }
   ],
   "source": [
    "jeetu.display_profile('iamshaan052', 24)"
   ]
  },
  {
   "cell_type": "code",
   "execution_count": 11,
   "id": "fdbf0362-097e-40a0-b85a-d4333d59e48f",
   "metadata": {},
   "outputs": [
    {
     "name": "stdin",
     "output_type": "stream",
     "text": [
      "Enter the post  Arpit Bala is my Favrouite singer\n",
      "If you want to post this on your profile enter OK else CANCEL OK\n"
     ]
    },
    {
     "name": "stdout",
     "output_type": "stream",
     "text": [
      "your post has been posted on your profile\n"
     ]
    }
   ],
   "source": [
    "jeetu.add_posts()"
   ]
  },
  {
   "cell_type": "code",
   "execution_count": null,
   "id": "2df70891-5221-4d6e-ad0b-bca8bbd73d84",
   "metadata": {},
   "outputs": [],
   "source": []
  }
 ],
 "metadata": {
  "kernelspec": {
   "display_name": "Python 3 (ipykernel)",
   "language": "python",
   "name": "python3"
  },
  "language_info": {
   "codemirror_mode": {
    "name": "ipython",
    "version": 3
   },
   "file_extension": ".py",
   "mimetype": "text/x-python",
   "name": "python",
   "nbconvert_exporter": "python",
   "pygments_lexer": "ipython3",
   "version": "3.10.8"
  }
 },
 "nbformat": 4,
 "nbformat_minor": 5
}
